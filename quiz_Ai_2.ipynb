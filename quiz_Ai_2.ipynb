{
 "cells": [
  {
   "cell_type": "code",
   "execution_count": 2,
   "id": "63e17fa3",
   "metadata": {},
   "outputs": [],
   "source": [
    "import numpy as np\n",
    "from numpy import random\n",
    "\n",
    "checkpoint = [\"a\",\"b\",\"c\",\"d\",\"e\"]\n",
    "adjecency = np.asarray([\n",
    "    [0,2,5,8,0],\n",
    "    [2,0,0,3,4],\n",
    "    [5,0,0,4,3],\n",
    "    [8,3,4,0,2],\n",
    "    [0,4,3,2,0]\n",
    "])\n",
    "\n",
    "class Findthebestdistance:\n",
    "  def __init__(self,DT,_start,_end):\n",
    "    self.distance = DT\n",
    "    self.end = next(x for x in range(len(checkpoint)) if _end==checkpoint[x])\n",
    "    self.start = next(x for x in range(len(checkpoint)) if _start==checkpoint[x])\n",
    "    self.value = [] \n",
    "    self._set_ = [] \n",
    "    self.check = [] \n",
    "    self.point = [] \n",
    "\n",
    "  def Distance(self,new_start,walk):\n",
    "    count=0\n",
    "    while count < len(adjecency[new_start]):\n",
    "      c = adjecency[new_start][count]\n",
    "      walk+=1\n",
    "      if c != 0:\n",
    "        self.value.append(walk)\n",
    "      count+=1\n",
    "    rd=self.value[random.randint(0, len(self.value))]\n",
    "    return rd\n",
    "\n",
    "  def cal(self):\n",
    "    rate=0\n",
    "    _sum=0\n",
    "    while rate<1000:\n",
    "      n=[]\n",
    "      pre_start=self.start\n",
    "      select=0\n",
    "      while self.end != pre_start:\n",
    "        self.value=[]\n",
    "        select=self.Distance(pre_start,-1)\n",
    "        _sum+=adjecency[pre_start][select]\n",
    "        n.append(checkpoint[select])\n",
    "        pre_start=select\n",
    "      self._set_.append(_sum)\n",
    "      self.point.append(n)\n",
    "      _sum=0\n",
    "      pre_start=self.start\n",
    "      rate+=1\n",
    "\n",
    "  def checkCal(self):\n",
    "    for i in self._set_:\n",
    "      if i > self.distance:\n",
    "        self.check.append(i-self.distance)\n",
    "      else:\n",
    "        self.check.append(self.distance-i)\n",
    "        \n",
    "  def Display(self):\n",
    "    print(checkpoint[self.start],\" -->\",end=\" \")\n",
    "    for i in range(len(self.check)):\n",
    "      if min(self.check)==self.check[i]:\n",
    "        display=self.point[i]\n",
    "        total=self._set_[i]\n",
    "    for j in range(len(display)):\n",
    "      if j < len(display)-1:\n",
    "        print(display[j], \" -->\",end=\" \")\n",
    "      else:\n",
    "        print(display[j],end=\" \")"
   ]
  },
  {
   "cell_type": "code",
   "execution_count": 3,
   "id": "6a6b38c2",
   "metadata": {},
   "outputs": [
    {
     "name": "stdout",
     "output_type": "stream",
     "text": [
      "เส้นทางออกกำลังกาย \n",
      "จุดเช็คพอยท์: a,b,c,d,e\n",
      "ป้อนระยะทางที่ต้องการ (km): 12\n",
      "จุดเริ่มต้น: a\n",
      "จุดปลายทาง: c\n",
      "a  --> d  --> c "
     ]
    }
   ],
   "source": [
    "print('เส้นทางออกกำลังกาย \\nจุดเช็คพอยท์: a,b,c,d,e')\n",
    "DT = int(input('ป้อนระยะทางที่ต้องการ (km): '))\n",
    "_start = input('จุดเริ่มต้น: ')\n",
    "_end = input('จุดปลายทาง: ')\n",
    "FB = Findthebestdistance(DT,_start,_end)\n",
    "FB.cal()\n",
    "FB.checkCal()\n",
    "FB.Display()"
   ]
  },
  {
   "cell_type": "code",
   "execution_count": null,
   "id": "6d97e78c",
   "metadata": {},
   "outputs": [],
   "source": []
  }
 ],
 "metadata": {
  "kernelspec": {
   "display_name": "Python 3",
   "language": "python",
   "name": "python3"
  },
  "language_info": {
   "codemirror_mode": {
    "name": "ipython",
    "version": 3
   },
   "file_extension": ".py",
   "mimetype": "text/x-python",
   "name": "python",
   "nbconvert_exporter": "python",
   "pygments_lexer": "ipython3",
   "version": "3.8.8"
  }
 },
 "nbformat": 4,
 "nbformat_minor": 5
}
